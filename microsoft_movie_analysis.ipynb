{
 "cells": [
  {
   "cell_type": "markdown",
   "metadata": {},
   "source": [
    "![image](./images/movie-business-consumer-demand.jpg)"
   ]
  },
  {
   "cell_type": "markdown",
   "metadata": {},
   "source": [
    "# **Movie Industry Analysis**\n",
    "### Client  :  Microsoft\n",
    "> *Authored by: Patrick Anastasio*"
   ]
  },
  {
   "cell_type": "markdown",
   "metadata": {},
   "source": [
    "## Introduction\n",
    "\n",
    "In preparation of entering the movie production business, Microsoft has asked me to prepare an analysis of current movie trends and to generate suggestions as to where to invest capital and how they can be sussesful in producing profitable movies. I will be analysing several datasets and making inferences off of financial information, ratings and popularity scores, as well as looking at established industry professionals to make suggestions on what genres and types of films to invest in and who to attach to projects to create buzz and generate an audience."
   ]
  },
  {
   "cell_type": "markdown",
   "metadata": {},
   "source": [
    "![image](./images/risky2.jpg)"
   ]
  },
  {
   "cell_type": "markdown",
   "metadata": {},
   "source": [
    "## Business Problem\n",
    "\n",
    "Movies are a 'risky business.' As a fledgling production house, Microsoft is unsure as to what kinds of movies to make, and where to invest capital. They lack the experience and industry knowledge that many of the top studios possess. Several factors go into producing a succesful movie. There are a few over-arching features that we will focus on: (1) gross revenue of the top rated and top grossing movies of the modern film era, (2) popular and highly rated genres, and (3) industry professionals who were instrumental in creating these movies."
   ]
  },
  {
   "cell_type": "markdown",
   "metadata": {},
   "source": [
    "## The Data\n",
    "\n",
    "I have pulled in multiple datasets from three industry standard data aggregation sites.\n",
    "- [Internet Movie Database (IMDB)](https://www.imdb.com/)\n",
    "- [The Movie Database (TMDB)](https://www.themoviedb.org/?language=en-US)\n",
    "- [The Numbers](https://www.the-numbers.com/)\n",
    "\n",
    "My subsequent filtering and analysis of these datasets focused on the following metrics:\n",
    "> - Financials: \n",
    ">    - Budget and Domestic Gross Revenue\n",
    "> - Ratings and Popularity Scores\n",
    "> - Movie Genres\n",
    "> - Names of directors"
   ]
  },
  {
   "cell_type": "markdown",
   "metadata": {},
   "source": [
    "## The Method\n",
    "\n",
    "After merging the datasets of interest I narrowed the scope of my analysis by initially filtering the data to only include movies made from 2010 forward. This constitutes the modern era of movie-making, and is characterized by new technologies, an explosion of investment and bigger budgets.\n",
    "\n",
    "I then converted data types as needed to allow me to operate on them. Specifically, converting objects to numbers to allow me to work with them mathematically.\n",
    "\n",
    "From these merged and cleaned datasets I pulled dataframes based on:\n",
    ">1. ratings and popularity scores across all movies and averaged these into specific genres  \n",
    ">2. domestic gross revenue across all movies, and then honing in on the top thirty (30) grossing movies and their budgets  \n",
    ">3. directors of the top thirty (30) grossing movies, as well as writers and actors."
   ]
  },
  {
   "cell_type": "code",
   "execution_count": null,
   "metadata": {},
   "outputs": [],
   "source": [
    "# import the packages that will be used in this project\n",
    "\n",
    "import pandas as pd\n",
    "from matplotlib import pyplot as plt\n",
    "import numpy as np"
   ]
  },
  {
   "cell_type": "markdown",
   "metadata": {},
   "source": [
    "## Import the data\n",
    "#### Read in the raw data files, and create the dataframes I will work with"
   ]
  },
  {
   "cell_type": "code",
   "execution_count": null,
   "metadata": {},
   "outputs": [],
   "source": [
    "names_by_id = pd.read_csv('data/zippedData/imdb.name.basics.csv.gz')\n",
    "\n",
    "names_by_id.info()"
   ]
  },
  {
   "cell_type": "code",
   "execution_count": null,
   "metadata": {},
   "outputs": [],
   "source": [
    "title_ratings = pd.read_csv('data/zippedData/imdb.title.ratings.csv.gz')\n",
    "\n",
    "title_ratings.info()"
   ]
  },
  {
   "cell_type": "code",
   "execution_count": null,
   "metadata": {},
   "outputs": [],
   "source": [
    "title_and_genre = pd.read_csv('data/zippedData/imdb.title.basics.csv.gz')\n",
    "\n",
    "title_and_genre.info()"
   ]
  },
  {
   "cell_type": "code",
   "execution_count": null,
   "metadata": {},
   "outputs": [],
   "source": [
    "directors_and_writers = pd.read_csv('data/zippedData/imdb.title.crew.csv.gz')\n",
    "\n",
    "directors_and_writers.info()"
   ]
  },
  {
   "cell_type": "code",
   "execution_count": null,
   "metadata": {},
   "outputs": [],
   "source": [
    "talent_list = pd.read_csv('data/zippedData/imdb.title.principals.csv.gz')\n",
    "\n",
    "talent_list.info()"
   ]
  },
  {
   "cell_type": "code",
   "execution_count": null,
   "metadata": {},
   "outputs": [],
   "source": [
    "popularity_and_votes = pd.read_csv('data/zippedData/tmdb.movies.csv.gz')\n",
    "\n",
    "popularity_and_votes.info()"
   ]
  },
  {
   "cell_type": "code",
   "execution_count": null,
   "metadata": {},
   "outputs": [],
   "source": [
    "budget_and_gross = pd.read_csv('data/zippedData/tn.movie_budgets.csv.gz')\n",
    "\n",
    "budget_and_gross.info()"
   ]
  },
  {
   "cell_type": "markdown",
   "metadata": {},
   "source": [
    "## Clean & Analyze the data\n",
    "#### I am looking to draw inferences from\n",
    "* hype measured by ratings and popularity\n",
    "* budget and gross (for simplicity's sake I will only focus on domestic gross)\n",
    "* talent attached to popular and profitable movies"
   ]
  },
  {
   "cell_type": "markdown",
   "metadata": {},
   "source": [
    "### Genre by average rating\n",
    ">I pull out a dataframe that contains information on a movie's genre and its rating"
   ]
  },
  {
   "cell_type": "code",
   "execution_count": null,
   "metadata": {
    "scrolled": true
   },
   "outputs": [],
   "source": [
    "# Merge the datafiles based on common key 'tconst'\n",
    "\n",
    "genre_by_rating = title_and_genre.merge(title_ratings, on='tconst')\n",
    "\n",
    "genre_by_rating.info()"
   ]
  },
  {
   "cell_type": "markdown",
   "metadata": {},
   "source": [
    "#### As stated above, the focus is on movies produced in the modern era  \n",
    ">I need to filter out titles that were made before the year 2010"
   ]
  },
  {
   "cell_type": "code",
   "execution_count": null,
   "metadata": {},
   "outputs": [],
   "source": [
    "# notice from the info that 'start_year' is of dtype: float, which will make filtering easier that converting a dtype: object to datetime\n",
    "\n",
    "# filter on movies produced from 2010 forward\n",
    "\n",
    "genre_by_rating = genre_by_rating[genre_by_rating['start_year'] >= 2010.00]\n",
    "\n",
    "genre_by_rating['start_year'].min()"
   ]
  },
  {
   "cell_type": "code",
   "execution_count": null,
   "metadata": {},
   "outputs": [],
   "source": [
    "# take the slice we want\n",
    "\n",
    "genre_by_rating = genre_by_rating.loc[:, ('original_title', 'genres', 'averagerating', 'numvotes')]\n",
    "\n",
    "genre_by_rating.info()"
   ]
  },
  {
   "cell_type": "code",
   "execution_count": null,
   "metadata": {
    "scrolled": true
   },
   "outputs": [],
   "source": [
    "# drop the null values in 'genres'\n",
    "\n",
    "genre_by_rating.dropna(subset=['genres'], axis=0, inplace=True)\n",
    "\n",
    "genre_by_rating.info()"
   ]
  },
  {
   "cell_type": "code",
   "execution_count": null,
   "metadata": {},
   "outputs": [],
   "source": [
    "# drop duplicate titles\n",
    "\n",
    "genre_by_rating.drop_duplicates(subset='original_title', inplace=True)\n",
    "\n",
    "genre_by_rating.head()"
   ]
  },
  {
   "cell_type": "code",
   "execution_count": null,
   "metadata": {},
   "outputs": [],
   "source": [
    "# filter out movies that do not have many votes, we will set the threshold to at least 300 votes\n",
    "\n",
    "low_votes = genre_by_rating[genre_by_rating['numvotes'] < 300.0].index\n",
    "genre_by_rating.drop(low_votes, inplace=True)\n",
    "\n",
    "genre_by_rating['numvotes'].min()"
   ]
  },
  {
   "cell_type": "code",
   "execution_count": null,
   "metadata": {
    "scrolled": true
   },
   "outputs": [],
   "source": [
    "# filter out low ratings to focus on high rated movies, we will set the threshold at a rating score of 8.5\n",
    "\n",
    "# filter out the low ratings\n",
    "\n",
    "low_ratings = genre_by_rating[genre_by_rating['averagerating'] < 8.5].index\n",
    "genre_by_rating.drop(low_ratings, inplace=True)\n",
    "\n",
    "genre_by_rating['averagerating'].min()"
   ]
  },
  {
   "cell_type": "code",
   "execution_count": null,
   "metadata": {},
   "outputs": [],
   "source": [
    "genre_by_rating.head()"
   ]
  },
  {
   "cell_type": "code",
   "execution_count": null,
   "metadata": {
    "scrolled": true
   },
   "outputs": [],
   "source": [
    "# notice that there are 'genres' values that have multiple genres listed separated by commas\n",
    "# I will focus on movies with only one genre\n",
    "\n",
    "# drop values with multiple genres\n",
    "\n",
    "genre_by_rating_multigenre = genre_by_rating[genre_by_rating['genres'].str.contains(',')].index\n",
    "genre_by_rating.drop(genre_by_rating_multigenre, inplace=True)\n",
    "\n",
    "genre_by_rating['genres'].unique()"
   ]
  },
  {
   "cell_type": "code",
   "execution_count": null,
   "metadata": {},
   "outputs": [],
   "source": [
    "# then we group our dataframe by 'genres' and show the mean of average ratings for each genre\n",
    "\n",
    "genre_by_rating_means = genre_by_rating.groupby('genres').mean().sort_values(by='averagerating', ascending=False)\n",
    "\n",
    "genre_by_rating_means"
   ]
  },
  {
   "cell_type": "code",
   "execution_count": null,
   "metadata": {
    "scrolled": true
   },
   "outputs": [],
   "source": [
    "# create the plot\n",
    "\n",
    "fig, ax = plt.subplots()\n",
    "fig.set_size_inches(15, 10)\n",
    "fig.set_facecolor('mediumaquamarine')\n",
    "ax.set_facecolor('black')\n",
    "ax.stem(genre_by_rating_means.index, genre_by_rating_means['averagerating'], linefmt='w-', markerfmt='wo', basefmt='w')\n",
    "ax.set(ylim=(8.4, 9.3),)\n",
    "ax.set_xlabel('Genre', font='Andale Mono', fontsize=20, labelpad=10)\n",
    "ax.set_ylabel('Rating', rotation=0, font='Andale Mono', fontsize=20, labelpad=20)\n",
    "ax.set_title('Genres by Rating', font='Andale Mono', fontsize=50, loc=\"center\", pad=10)\n",
    "plt.xticks(font='Andale Mono', fontsize=14)\n",
    "plt.yticks(font='Andale Mono', fontsize=14)\n",
    "plt.axhline(y=9.0, ls='--', c='mediumaquamarine')\n",
    "plt.axhline(y=8.8, ls='--', c='mediumaquamarine')\n",
    "ax.tick_params(axis='x', labelrotation = 30)\n",
    "# plt.savefig('./images/genres_by_rating.png')"
   ]
  },
  {
   "cell_type": "markdown",
   "metadata": {},
   "source": [
    "### Gross Profit\n",
    ">I pull out a dataframe that contains information on a movie's popularity and financials"
   ]
  },
  {
   "cell_type": "code",
   "execution_count": null,
   "metadata": {},
   "outputs": [],
   "source": [
    "# I will have to merge The Numbers dataset but there is no common key\n",
    "# notice the 'movie' key is the same as the 'original_title' key\n",
    "\n",
    "# rename the 'movie' key to 'original_title' to merge it\n",
    "\n",
    "budget_and_gross.rename({'movie':'original_title'}, axis=1, inplace=True)\n",
    "\n",
    "budget_and_gross.head(1)"
   ]
  },
  {
   "cell_type": "code",
   "execution_count": null,
   "metadata": {},
   "outputs": [],
   "source": [
    "# merge the required datasets\n",
    "\n",
    "popularity_financials = title_and_genre.merge(\n",
    "    popularity_and_votes, on='original_title', how='right').merge(\n",
    "    budget_and_gross, on='original_title', how='right')\n",
    "\n",
    "popularity_financials.info()"
   ]
  },
  {
   "cell_type": "code",
   "execution_count": null,
   "metadata": {},
   "outputs": [],
   "source": [
    "# filter on movies produced from 2010 forward\n",
    "\n",
    "popularity_financials = popularity_financials[popularity_financials['start_year'] >= 2010.00]\n",
    "\n",
    "popularity_financials['start_year'].min()"
   ]
  },
  {
   "cell_type": "code",
   "execution_count": null,
   "metadata": {},
   "outputs": [],
   "source": [
    "# take the slice we want\n",
    "\n",
    "popularity_financials = popularity_financials.loc[:, ('original_title', 'popularity', 'production_budget', 'domestic_gross')]\n",
    "\n",
    "popularity_financials.info()"
   ]
  },
  {
   "cell_type": "code",
   "execution_count": null,
   "metadata": {},
   "outputs": [],
   "source": [
    "# drop duplicate titles\n",
    "\n",
    "popularity_financials.drop_duplicates(subset='original_title', inplace=True)\n",
    "\n",
    "popularity_financials.info()"
   ]
  },
  {
   "cell_type": "markdown",
   "metadata": {},
   "source": [
    "#### Unfortunately, the values in the financial columns are of dtype: object\n",
    ">I need to convert these values to a number dtype to work with them mathematically"
   ]
  },
  {
   "cell_type": "code",
   "execution_count": null,
   "metadata": {},
   "outputs": [],
   "source": [
    "# create a function that will take an object and transform it into a number\n",
    "\n",
    "def drop_dollar_sign_and_commas(value):\n",
    "    \"\"\"\n",
    "    this will split the object into a list of characters using the list() function\n",
    "    then iterate over the list and drop the $ sign, and remove commas from the list\n",
    "    use the .remove() method to drop the $\n",
    "    use a for loop to remove the commas, as .remove() will only remove the first instance, and some values contain more than one comma\n",
    "    then use the .join() method to reconneect the list into a single string\n",
    "    finally turn that string into a float, and return it\n",
    "    \"\"\"\n",
    "    \n",
    "    value_list = list(value)\n",
    "    value_list.remove('$')\n",
    "    for char in value_list:\n",
    "        if ',' == char:\n",
    "            value_list.remove(char)\n",
    "    value_float = float(''.join(value_list))\n",
    "    return value_float"
   ]
  },
  {
   "cell_type": "code",
   "execution_count": null,
   "metadata": {
    "scrolled": true
   },
   "outputs": [],
   "source": [
    "# create new columns for the float values using .map() and our function above\n",
    "\n",
    "popularity_financials['Budget'] = popularity_financials['production_budget'].map(drop_dollar_sign_and_commas)\n",
    "popularity_financials['Domestic Gross'] = popularity_financials['domestic_gross'].map(drop_dollar_sign_and_commas)\n",
    "\n",
    "popularity_financials.info()"
   ]
  },
  {
   "cell_type": "code",
   "execution_count": null,
   "metadata": {
    "scrolled": true
   },
   "outputs": [],
   "source": [
    "# slice for just the floats\n",
    "\n",
    "popularity_financials = popularity_financials.loc[:, ('original_title', 'popularity', 'Budget', 'Domestic Gross')]\n",
    "\n",
    "popularity_financials.info()"
   ]
  },
  {
   "cell_type": "markdown",
   "metadata": {},
   "source": [
    "#### I need to find the gross profit of these movies\n",
    ">The gross profit will be the domestic gross minus the budget"
   ]
  },
  {
   "cell_type": "code",
   "execution_count": null,
   "metadata": {
    "scrolled": true
   },
   "outputs": [],
   "source": [
    "# create a column for gross profit\n",
    "\n",
    "popularity_financials['Profit'] = popularity_financials['Domestic Gross'] - popularity_financials['Budget']\n",
    "\n",
    "popularity_financials.head()"
   ]
  },
  {
   "cell_type": "code",
   "execution_count": null,
   "metadata": {},
   "outputs": [],
   "source": [
    "# pull the 30 most profitable movies\n",
    "\n",
    "most_profitable = popularity_financials.sort_values(by='Profit', ascending=False).head(30)\n",
    "\n",
    "most_profitable.head()"
   ]
  },
  {
   "cell_type": "markdown",
   "metadata": {},
   "source": [
    ">Currency function below borrowed from [datavizpyr](https://datavizpyr.com/add-dollar-sign-on-axis-ticks-in-matplotlib/)"
   ]
  },
  {
   "cell_type": "code",
   "execution_count": null,
   "metadata": {
    "scrolled": true
   },
   "outputs": [],
   "source": [
    "# plot the 30 most profitable movies\n",
    "\n",
    "# we want to avoid scientific notation and put the tick numbers into short-form USD\n",
    "\n",
    "# use [currency] function cited above\n",
    "\n",
    "def currency(x, pos):\n",
    "    \"\"\"\n",
    "    This function will format a tick of float type to currency\n",
    "    The two args are the value and tick position\n",
    "    \"\"\"\n",
    "    if x >= 1e6:\n",
    "        s = '${:1.0f}M'.format(x*1e-6)\n",
    "    else:\n",
    "        s = '${:1.0f}'.format(x*1e-3)\n",
    "    return s\n",
    "\n",
    "\n",
    "# create the plot\n",
    "\n",
    "fig, ax = plt.subplots()\n",
    "fig.set_size_inches(25, 20)\n",
    "fig.set_facecolor('mediumaquamarine')\n",
    "ax.set_facecolor('black')\n",
    "ax.barh(most_profitable['original_title'], width=most_profitable['Profit'], height=0.5, color='hotpink')\n",
    "ax.set_xlabel('Profit', font='Andale Mono', fontsize=30, labelpad=15)\n",
    "ax.set_ylabel('Movie', rotation=30, font='Andale Mono', fontsize=30, labelpad=0)\n",
    "ax.set_title('Most Profitable Movies', font='Andale Mono', fontsize=40, weight='bold', loc=\"center\", pad=0)\n",
    "plt.xticks(font='Andale Mono', fontsize=24, weight='bold')\n",
    "plt.yticks(font='Andale Mono', fontsize=20, weight='bold')\n",
    "ax.invert_yaxis()\n",
    "plt.ticklabel_format(axis='x', style='plain')\n",
    "ax.xaxis.set_major_formatter(currency)\n",
    "# plt.savefig('./images/profit.png', dpi=200, bbox_inches='tight')"
   ]
  },
  {
   "cell_type": "markdown",
   "metadata": {},
   "source": [
    "### Most Popular\n",
    ">I pull out a dataframe that contains information on a movie's popularity"
   ]
  },
  {
   "cell_type": "code",
   "execution_count": null,
   "metadata": {},
   "outputs": [],
   "source": [
    "# pull the 30 most popular movies\n",
    "\n",
    "most_popular = popularity_financials.sort_values(by='popularity', ascending=False).head(30)\n",
    "\n",
    "most_popular.head()"
   ]
  },
  {
   "cell_type": "code",
   "execution_count": null,
   "metadata": {
    "scrolled": true
   },
   "outputs": [],
   "source": [
    "# create the plot\n",
    "\n",
    "fig, ax = plt.subplots()\n",
    "fig.set_size_inches(25, 20)\n",
    "fig.set_facecolor('mediumaquamarine')\n",
    "ax.set_facecolor('black')\n",
    "ax.barh(most_popular['original_title'], width=most_popular['popularity'], height=0.5, color='darkorange')\n",
    "ax.set_xlabel('Popularity Score', font='Andale Mono', fontsize=30, labelpad=15)\n",
    "ax.set_ylabel('Movie', rotation=30, font='Andale Mono', fontsize=30, labelpad=10)\n",
    "ax.set_title('Most Popular Movies', font='Andale Mono', fontsize=40, weight='bold', loc=\"center\", pad=0)\n",
    "plt.xticks(font='Andale Mono', fontsize=24, weight='bold')\n",
    "plt.yticks(font='Andale Mono', fontsize=20, weight='bold')\n",
    "ax.invert_yaxis()\n",
    "# plt.savefig('./images/popularity_score.png', dpi=200, bbox_inches='tight')"
   ]
  },
  {
   "cell_type": "markdown",
   "metadata": {},
   "source": [
    "### Popularity vs. Budget\n",
    ">I want to see if there is a correlation between popularity and budget"
   ]
  },
  {
   "cell_type": "code",
   "execution_count": null,
   "metadata": {
    "scrolled": true
   },
   "outputs": [],
   "source": [
    "# create a scatter plot with a regression line for popularity vs. budget\n",
    "\n",
    "# create the the plot\n",
    "\n",
    "fig, ax = plt.subplots()\n",
    "fig.set_size_inches(20, 20)\n",
    "fig.set_facecolor('mediumaquamarine')\n",
    "ax.set_facecolor('black')\n",
    "ax.scatter(popularity_financials['Budget'], popularity_financials['popularity'], s=65)\n",
    "ax.set_xlabel('Budget', font='Andale Mono', fontsize=30, labelpad=15)\n",
    "ax.set_ylabel('Popularity', rotation=90, font='Andale Mono', fontsize=30, labelpad=10)\n",
    "ax.set_title('Popularity vs Budget', font='Andale Mono', fontsize=40, weight='bold', loc=\"center\", pad=0)\n",
    "plt.xticks(font='Andale Mono', fontsize=24, weight='bold')\n",
    "plt.yticks(font='Andale Mono', fontsize=20, weight='bold')\n",
    "ax.xaxis.set_major_formatter(currency)\n",
    "\n",
    "\n",
    "#add the regression line to scatterplot\n",
    "\n",
    "m, b = np.polyfit(popularity_financials['Budget'], popularity_financials['popularity'], 1)\n",
    "plt.plot(popularity_financials['Budget'], m*popularity_financials['Budget']+b, color='red', linewidth=5)\n",
    "\n",
    "# plt.savefig('./images/popularity_vs_budget.png')"
   ]
  },
  {
   "cell_type": "markdown",
   "metadata": {},
   "source": [
    "### Most Profitable Directors\n",
    ">I want to see who directed the most profitable movies"
   ]
  },
  {
   "cell_type": "code",
   "execution_count": null,
   "metadata": {},
   "outputs": [],
   "source": [
    "# merge the 'directors_and_writers' dataset with the 'title_and _genre'\n",
    "\n",
    "directors_merged = title_and_genre.merge(directors_and_writers, on='tconst')\n",
    "\n",
    "directors_merged.info()"
   ]
  },
  {
   "cell_type": "code",
   "execution_count": null,
   "metadata": {},
   "outputs": [],
   "source": [
    "# we want to merge this with the 'names_by_id', but there is no common key\n",
    "\n",
    "# change the name of the 'directors' column to a common key\n",
    "\n",
    "directors_merged.rename({'directors':'nconst'}, axis=1, inplace=True)\n",
    "\n",
    "directors_merged.head()"
   ]
  },
  {
   "cell_type": "code",
   "execution_count": null,
   "metadata": {},
   "outputs": [],
   "source": [
    "# merge on the common key\n",
    "\n",
    "director_names_merged = directors_merged.merge(names_by_id, on='nconst')\n",
    "\n",
    "director_names_merged.info()"
   ]
  },
  {
   "cell_type": "code",
   "execution_count": null,
   "metadata": {
    "scrolled": false
   },
   "outputs": [],
   "source": [
    "# merge this with the dataset containing the most profitable movies on common key 'original_title'\n",
    "\n",
    "top_profit_directors = most_profitable.merge(director_names_merged, on='original_title')\n",
    "\n",
    "top_profit_directors.info()"
   ]
  },
  {
   "cell_type": "code",
   "execution_count": null,
   "metadata": {},
   "outputs": [],
   "source": [
    "top_profit_directors['primary_name'].sort_values()"
   ]
  },
  {
   "cell_type": "code",
   "execution_count": null,
   "metadata": {
    "scrolled": true
   },
   "outputs": [],
   "source": [
    "# notice only 20 of the top movies have directors listed, 2 are repeated\n",
    "# so we will only have 18 names on the plot, their most profitable movie will be plotted\n",
    "# the dataframe is already sorted by most profitable movies and only\n",
    "\n",
    "# create the plot\n",
    "\n",
    "fig, ax = plt.subplots()\n",
    "fig.set_size_inches(20, 20)\n",
    "fig.set_facecolor('mediumaquamarine')\n",
    "ax.set_facecolor('black')\n",
    "ax.barh(top_profit_directors['primary_name'], width=top_profit_directors['Profit'], height=0.5)\n",
    "ax.set_xlabel('Profit', font='Andale Mono', fontsize=30, labelpad=15)\n",
    "ax.set_ylabel('Director', rotation=30, font='Andale Mono', fontsize=30, labelpad=10)\n",
    "ax.set_title('Most Profitable Directors', font='Andale Mono', fontsize=40, weight='bold', loc=\"center\", pad=0)\n",
    "plt.xticks(font='Andale Mono', fontsize=24, weight='bold')\n",
    "plt.yticks(font='Andale Mono', fontsize=20, weight='bold')\n",
    "ax.invert_yaxis()\n",
    "plt.ticklabel_format(axis='x', style='plain')\n",
    "ax.xaxis.set_major_formatter(currency)\n",
    "# plt.savefig('./images/top_profit_directors.png', dpi=200, bbox_inches='tight')"
   ]
  },
  {
   "cell_type": "markdown",
   "metadata": {},
   "source": [
    "### Most Popular Directors\n",
    ">I want to see who directed the most popular movies"
   ]
  },
  {
   "cell_type": "code",
   "execution_count": null,
   "metadata": {},
   "outputs": [],
   "source": [
    "# merge this with the dataset containing the most popular movies on common key 'original_title'\n",
    "\n",
    "top_pop_directors = most_popular.merge(director_names_merged, on='original_title')\n",
    "\n",
    "# top_pop_directors.drop(['Budget','Domestic Gross','tconst','primary_title','start_year','runtime_minutes','genres','nconst','writers','birth_year','death_year','primary_profession','known_for_titles'], axis=1, inplace=True)\n",
    "top_pop_directors.info()"
   ]
  },
  {
   "cell_type": "code",
   "execution_count": null,
   "metadata": {},
   "outputs": [],
   "source": [
    "top_pop_directors['primary_name'].sort_values()"
   ]
  },
  {
   "cell_type": "code",
   "execution_count": null,
   "metadata": {
    "scrolled": true
   },
   "outputs": [],
   "source": [
    "# notice only 26 of the top movies have directors listed, and there are 3 repeats\n",
    "# so we will only have 23 names on the plot, their most popular movie will be plotted\n",
    "# the dataframe is already sorted by most popular movies\n",
    "\n",
    "# create the plot\n",
    "\n",
    "fig, ax = plt.subplots()\n",
    "fig.set_size_inches(20, 20)\n",
    "fig.set_facecolor('mediumaquamarine')\n",
    "ax.set_facecolor('black')\n",
    "ax.barh(top_pop_directors['primary_name'], width=top_pop_directors['popularity'], height=0.5, color='yellow')\n",
    "ax.set_xlabel('Movie Popularity Score', font='Andale Mono', fontsize=30, labelpad=15)\n",
    "ax.set_ylabel('Director', rotation=30, font='Andale Mono', fontsize=30, labelpad=100)\n",
    "ax.set_title('Most Popular Directors', font='Andale Mono', fontsize=40, weight='bold', loc=\"center\", pad=0)\n",
    "plt.xticks(font='Andale Mono', fontsize=24, weight='bold')\n",
    "plt.yticks(font='Andale Mono', fontsize=20, weight='bold')\n",
    "ax.invert_yaxis()\n",
    "plt.ticklabel_format(axis='x', style='plain')\n",
    "# plt.savefig('./images/most_popular_directors.png', dpi=200, bbox_inches='tight')"
   ]
  },
  {
   "cell_type": "markdown",
   "metadata": {},
   "source": [
    "## Results\n",
    "\n",
    "### Filtering the data on a minimum number of votes and a minimum rating threshold, my analysis shows the highest rated genres by average movie rating are:\n",
    "    \n",
    "  > - **Action** is the top genre by a large margin \n",
    "\n",
    "  > - Other genres with high ratings are:\n",
    "        - Thriller\n",
    "        - Documentary\n",
    "        - Comedy\n",
    "        - Drama\n",
    "        - Animation\n",
    "        \n",
    "### Looking at the gross profit of the top 30 movies of the modern era, my analysis shows the following:\n",
    "\n",
    "   > - 15 were in the animation or computer-generated graphic genre, with many being franchises as well\n",
    "\n",
    "   > - 13 were in the action genre:\n",
    "        - All but 1 of those was part of a franchise, or connected series of movies\n",
    "        - 6 were super-hero / comic book movies, and alll part of a franchise\n",
    "        \n",
    "\n",
    "\n",
    "### Further, looking at the popularity scores of the top 30 most popular movies of the modern era, my analysis shows the following:\n",
    "\n",
    "   > - 22 were in the action genre, 19 were part of a franchise\n",
    "        - 16 of these were super-hero / comic book franchises\n",
    "        \n",
    "   > - 3 were animation\n",
    "\n",
    "   > - 3 were drama\n",
    "\n",
    "   > - 2 were fantasy/adventure franchises\n",
    "\n",
    "### We also looked at who the directors were on the most profitable and the most opular movies, with some directors appearing multiple times in these lists."
   ]
  },
  {
   "cell_type": "markdown",
   "metadata": {},
   "source": [
    "## In Conclusion\n",
    "Based on these observations, there are three reccomendations that I will put forth\n",
    "\n",
    "#### 1. Microsoft should acquire the rights to a super-hero / comic book franchise, or possibly another type of action franchise\n",
    ">- The most popular and profitable genre overall is action.  \n",
    ">- The most successful movies by both profitability and popularity were in the superhero / comic book sub-genre.  \n",
    ">- All were franchises\n",
    "\n",
    "#### 2. Microsoft should produce animated movies\n",
    ">- 15 of the top 30 most profitable were animation\n",
    "\n",
    "#### 3. Microsoft should attach top grossing and popular directors\n",
    ">- Directors are the leaders on set and they can make or break a project. You want a proven and experienced director at the helm.  \n",
    ">- They bring buzz and notoriety, as well as attract top talent and collaborative investment to their projects"
   ]
  },
  {
   "cell_type": "markdown",
   "metadata": {},
   "source": [
    "## Further Considerations\n",
    "\n",
    "I would consider looking at the budgets of popular movies. We saw a slight positive correlation between budget and popularity. This could be a function of an increase in marketing budget, pay scales of top talent, or something else. This could prove to be a worthwhile anaysis of where to allocate capital in a budget, and whether certain escalations could pay dividends for the bottmline."
   ]
  },
  {
   "cell_type": "markdown",
   "metadata": {},
   "source": [
    "#### Thank You!\n",
    "\n",
    "Email: sudomakecoffee1@gmail.com  \n",
    "\n",
    "GitHub: [@patrick-anastasio](https://github.com/patrick-anastasio)\n",
    "\n",
    "LinkedIn: [patrickanastasio](linkedin.com/in/patrickanastasio/)\n"
   ]
  },
  {
   "cell_type": "code",
   "execution_count": null,
   "metadata": {},
   "outputs": [],
   "source": []
  }
 ],
 "metadata": {
  "kernelspec": {
   "display_name": "learn-env",
   "language": "python",
   "name": "learn-env"
  },
  "language_info": {
   "codemirror_mode": {
    "name": "ipython",
    "version": 3
   },
   "file_extension": ".py",
   "mimetype": "text/x-python",
   "name": "python",
   "nbconvert_exporter": "python",
   "pygments_lexer": "ipython3",
   "version": "3.8.5"
  }
 },
 "nbformat": 4,
 "nbformat_minor": 4
}

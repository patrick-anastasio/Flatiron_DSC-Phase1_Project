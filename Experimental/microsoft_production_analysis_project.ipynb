{
 "cells": [
  {
   "cell_type": "markdown",
   "metadata": {},
   "source": [
    "![image](./images/movie-business-consumer-demand.jpg)"
   ]
  },
  {
   "cell_type": "markdown",
   "metadata": {},
   "source": [
    "# **Movie Industry Analysis**\n",
    "### Client  :  Microsoft\n",
    "> *Authored by: Patrick Anastasio*"
   ]
  },
  {
   "cell_type": "markdown",
   "metadata": {},
   "source": [
    "## Introduction\n",
    "\n",
    "In preparation of entering the movie production business, Microsoft has asked me to prepare an analysis of current movie trends and to generate suggestions as to where to invest capital and how they can be sussesful in producing profitable movies. I will be analysing several datasets and making inferences off of financial information, ratings and popularity scores, as well as looking at established industry professionals to make suggestions on what genres and types of films to invest in and who to attach to projects to create buzz and generate an audience."
   ]
  },
  {
   "cell_type": "markdown",
   "metadata": {},
   "source": [
    "![image](./images/risky2.jpg)"
   ]
  },
  {
   "cell_type": "markdown",
   "metadata": {},
   "source": [
    "## Business Problem\n",
    "\n",
    "Movies are a 'risky business.' As a fledgling production house, Microsoft is unsure as to what kinds of movies to make, and where to invest capital. They lack the experience and industry knowledge that many of the top studios possess. Several factors go into producing a succesful movie. There are a few over-arching features that we will focus on: (1) gross revenue of the top rated and top grossing movies of the modern film era, (2) popular and highly rated genres, and (3) industry professionals who were instrumental in creating these movies."
   ]
  },
  {
   "cell_type": "markdown",
   "metadata": {},
   "source": [
    "## The Data\n",
    "\n",
    "I have pulled in multiple datasets from three industry standard data aggregation sites.\n",
    "- [Internet Movie Database (IMDB)](https://www.imdb.com/)\n",
    "- [The Movie Database (TMDB)](https://www.themoviedb.org/?language=en-US)\n",
    "- [The Numbers](https://www.the-numbers.com/)\n",
    "\n",
    "I narrowed the scope of my analysis by initially filtering the data to only include movies made from 2010 forward. My subsequent filtering and analysis of these datasets focused on the following metrics:\n",
    "> - Financials: \n",
    ">    - Budget and Domestic Gross Revenue\n",
    "> - Ratings and Popularity Scores\n",
    "> - Movie Genres\n",
    "> - Names of directors, writers and actors/actresses"
   ]
  },
  {
   "cell_type": "markdown",
   "metadata": {},
   "source": [
    "## The Method\n",
    "\n",
    "After merging the datasets of interest I filtered out movies made prior to 2010. This constitutes the modern era of movie-making, and is characterized by new technologies and an explosion of investment.\n",
    "\n",
    "I then converted data types as needed to allow me to operate on them. Specifically, converting objects to numbers to allow me to work with them mathematically.\n",
    "\n",
    "From this merged and cleaned dataset I pulled dataframes based on:\n",
    "1. ratings and popularity scores across all movies and averaged these into specific genres\n",
    "2. domestic gross revenue across all movies, and then honing in on the top thirty (30) grossing movies and their budgets\n",
    "3. directors of the top thirty (30) grossing movies, as well as writers and actors."
   ]
  },
  {
   "cell_type": "code",
   "execution_count": null,
   "metadata": {},
   "outputs": [],
   "source": [
    "# import the packages that will be used in this project\n",
    "\n",
    "import pandas as pd\n",
    "from matplotlib import pyplot as plt\n",
    "import numpy as np"
   ]
  },
  {
   "cell_type": "markdown",
   "metadata": {},
   "source": [
    "## Import the data\n",
    "#### Read in the raw data files, and create the dataframes I will work with"
   ]
  },
  {
   "cell_type": "code",
   "execution_count": null,
   "metadata": {},
   "outputs": [],
   "source": [
    "names_by_id = pd.read_csv('data/zippedData/imdb.name.basics.csv.gz')\n",
    "\n",
    "names_by_id.info()"
   ]
  },
  {
   "cell_type": "code",
   "execution_count": null,
   "metadata": {},
   "outputs": [],
   "source": [
    "title_ratings = pd.read_csv('data/zippedData/imdb.title.ratings.csv.gz')\n",
    "\n",
    "title_ratings.info()"
   ]
  },
  {
   "cell_type": "code",
   "execution_count": null,
   "metadata": {},
   "outputs": [],
   "source": [
    "title_and_genre = pd.read_csv('data/zippedData/imdb.title.basics.csv.gz')\n",
    "\n",
    "title_and_genre.info()"
   ]
  },
  {
   "cell_type": "code",
   "execution_count": null,
   "metadata": {},
   "outputs": [],
   "source": [
    "directors_and_writers = pd.read_csv('data/zippedData/imdb.title.crew.csv.gz')\n",
    "\n",
    "directors_and_writers.info()"
   ]
  },
  {
   "cell_type": "code",
   "execution_count": null,
   "metadata": {},
   "outputs": [],
   "source": [
    "talent_list = pd.read_csv('data/zippedData/imdb.title.principals.csv.gz')\n",
    "\n",
    "talent_list.info()"
   ]
  },
  {
   "cell_type": "code",
   "execution_count": null,
   "metadata": {},
   "outputs": [],
   "source": [
    "popularity_and_votes = pd.read_csv('data/zippedData/tmdb.movies.csv.gz')\n",
    "\n",
    "popularity_and_votes.info()"
   ]
  },
  {
   "cell_type": "code",
   "execution_count": null,
   "metadata": {},
   "outputs": [],
   "source": [
    "budget_and_gross = pd.read_csv('data/zippedData/tn.movie_budgets.csv.gz')\n",
    "\n",
    "budget_and_gross.info()"
   ]
  },
  {
   "cell_type": "markdown",
   "metadata": {},
   "source": [
    "#### Merging the IMDB datasets\n",
    "\n",
    "> These datasets contain titles, ratings, genres, production start year, and [above the line](https://www.amyclarkefilms.com/blog/above-and-below-the-line) names."
   ]
  },
  {
   "cell_type": "code",
   "execution_count": null,
   "metadata": {},
   "outputs": [],
   "source": [
    "# merge the IMDB dataframes with the common key 'tconst'\n",
    "\n",
    "merged_df = title_and_genre.merge(\n",
    "    title_ratings, on='tconst').merge(\n",
    "    directors_and_writers, on='tconst').merge(\n",
    "    talent_list, on='tconst')\n",
    "\n",
    "merged_df.head()"
   ]
  },
  {
   "cell_type": "code",
   "execution_count": null,
   "metadata": {},
   "outputs": [],
   "source": [
    "# the IMDB df 'names_by_id' does not have the key 'tconst'\n",
    "# merge it on the 'nconst' key\n",
    "merged_df = merged_df.merge(names_by_id, on='nconst')\n",
    "\n",
    "merged_df.head()"
   ]
  },
  {
   "cell_type": "markdown",
   "metadata": {},
   "source": [
    "#### Merging the remaining datasets\n",
    "\n",
    ">The TMDB dataset contains information on popularity scores and audience voting.  \n",
    ">The Numbers dataset contains information on the financials"
   ]
  },
  {
   "cell_type": "code",
   "execution_count": null,
   "metadata": {},
   "outputs": [],
   "source": [
    "# merge the TMDB dataset with a \"right\" merge, since we only want to keep titles that have a popularity score and votes\n",
    "# the common key is 'original_title'\n",
    "\n",
    "merged_df = merged_df.merge(popularity_and_votes, on='original_title', how='right')\n",
    "\n",
    "merged_df.head()"
   ]
  },
  {
   "cell_type": "code",
   "execution_count": null,
   "metadata": {},
   "outputs": [],
   "source": [
    "# The Numbers dataset does not contain a common key so we will have to make one\n",
    "\n",
    "budget_and_gross.head()"
   ]
  },
  {
   "cell_type": "code",
   "execution_count": null,
   "metadata": {},
   "outputs": [],
   "source": [
    "# notice the 'movie' key is the same as the 'original_title' key\n",
    "# rename the 'movie' key to 'original_title' to merge it\n",
    "\n",
    "budget_and_gross.rename({'movie':'original_title'}, axis=1, inplace=True)\n",
    "\n",
    "budget_and_gross.head(1)"
   ]
  },
  {
   "cell_type": "code",
   "execution_count": null,
   "metadata": {},
   "outputs": [],
   "source": [
    "# merge The Numbers dataset with a \"right\" merge to keep only titles with financial info\n",
    "\n",
    "merged_df = merged_df.merge(budget_and_gross, on='original_title', how='right')\n",
    "\n",
    "merged_df.head()"
   ]
  },
  {
   "cell_type": "code",
   "execution_count": null,
   "metadata": {},
   "outputs": [],
   "source": [
    "# take a look at the completely merged dataframe\n",
    "\n",
    "merged_df.info()"
   ]
  },
  {
   "cell_type": "markdown",
   "metadata": {},
   "source": [
    "## Clean the data\n"
   ]
  },
  {
   "cell_type": "markdown",
   "metadata": {},
   "source": [
    "#### As stated above, the focus is on movies produced in the modern era  \n",
    ">I need to filter out titles that were made before the year 2010"
   ]
  },
  {
   "cell_type": "code",
   "execution_count": null,
   "metadata": {},
   "outputs": [],
   "source": [
    "# notice from the info that 'start_year' is of dtype: float, which will make filtering easier that converting a dtype: object to datetime\n",
    "# filter on movies produced from 2010 forward\n",
    "\n",
    "merged_df = merged_df[merged_df['start_year'] >= 2010.00]\n",
    "\n",
    "merged_df['start_year'].min()"
   ]
  },
  {
   "cell_type": "markdown",
   "metadata": {},
   "source": [
    "#### Unfortunately, the values in the financial columns are of dtype: object\n",
    ">I need to convert these values to a number dtype to work with them mathematically"
   ]
  },
  {
   "cell_type": "code",
   "execution_count": null,
   "metadata": {},
   "outputs": [],
   "source": [
    "# create a function that will take an object/value and make it into a number\n",
    "\n",
    "def drop_dollar_sign_and_commas(value):\n",
    "    \"\"\"\n",
    "    this will split the object into a list of characters using the list() function\n",
    "    then iterate over the list and drop the $ sign, and remove commas from the list\n",
    "    use the .remove() method to drop the $\n",
    "    use a for loop to remove the commas, as .remove() will only remove the first instance, and some values contain more than one comma\n",
    "    then use the .join() method to reconneect the list into a single string\n",
    "    finally turn that string into a float, and return it\n",
    "    \"\"\"\n",
    "    \n",
    "    value_list = list(value)\n",
    "    value_list.remove('$')\n",
    "    for char in value_list:\n",
    "        if ',' == char:\n",
    "            value_list.remove(char)\n",
    "    value_float = float(''.join(value_list))\n",
    "    return value_float"
   ]
  },
  {
   "cell_type": "code",
   "execution_count": null,
   "metadata": {},
   "outputs": [],
   "source": [
    "# create new columns for the float values using .map() and the function above\n",
    "\n",
    "merged_df['Budget'] = merged_df['production_budget'].map(drop_dollar_sign_and_commas)\n",
    "merged_df['Domestic Gross'] = merged_df['domestic_gross'].map(drop_dollar_sign_and_commas)\n",
    "\n",
    "# and check it\n",
    "merged_df.info()"
   ]
  },
  {
   "cell_type": "code",
   "execution_count": null,
   "metadata": {},
   "outputs": [],
   "source": [
    "# drop columns that I will not need\n",
    "\n",
    "merged_df.drop(['primary_title', 'runtime_minutes', 'job', 'birth_year', 'death_year', 'primary_profession', 'known_for_titles', 'Unnamed: 0', 'genre_ids', 'id_x', 'original_language', 'release_date_x', 'title', 'id_y', 'release_date_y', 'production_budget', 'domestic_gross', 'worldwide_gross'], axis=1, inplace=True)\n",
    "\n",
    "merged_df.info()"
   ]
  },
  {
   "cell_type": "markdown",
   "metadata": {},
   "source": [
    "## Analyze the data\n",
    "#### I am looking to draw inferences from\n",
    "* a movies popularity measured by its ratings\n",
    "* budget and gross (for simplicity's sake I will only focus on domestic gross)\n",
    "* talent attached to popular and profitable movies"
   ]
  },
  {
   "cell_type": "markdown",
   "metadata": {},
   "source": [
    "#### Genre by average rating\n",
    ">I pull out a separate dataframe that ony contains information on movie ratings, popularity, and the financials"
   ]
  },
  {
   "cell_type": "code",
   "execution_count": null,
   "metadata": {},
   "outputs": [],
   "source": [
    "# pull the desired slice of the dataframe\n",
    "\n",
    "genre_by_rating = merged_df.loc[:,('original_title', 'genres', 'averagerating', 'numvotes', 'Budget', 'Domestic Gross')]\n",
    "\n",
    "genre_by_rating['genres'].info()"
   ]
  },
  {
   "cell_type": "code",
   "execution_count": null,
   "metadata": {},
   "outputs": [],
   "source": [
    "# drop the null values from 'genres'\n",
    "\n",
    "genre_by_rating.dropna(subset=['genres'], axis=0, inplace=True)\n",
    "\n",
    "genre_by_rating.info()"
   ]
  },
  {
   "cell_type": "code",
   "execution_count": null,
   "metadata": {},
   "outputs": [],
   "source": [
    "# notice that there are 'genres' values that have multiple genres listed separated by commas\n",
    "# I will focus on movies with only one genre\n",
    "# drop values with multiple genres\n",
    "\n",
    "genre_by_rating_multigenre = genre_by_rating[genre_by_rating['genres'].str.contains(',')].index\n",
    "genre_by_rating.drop(genre_by_rating_multigenre, inplace=True)\n",
    "\n",
    "genre_by_rating.info()"
   ]
  },
  {
   "cell_type": "code",
   "execution_count": null,
   "metadata": {},
   "outputs": [],
   "source": [
    "# there are also many duplicates\n",
    "# drop duplicate titles\n",
    "\n",
    "genre_by_rating.drop_duplicates(subset='original_title', inplace=True)\n",
    "\n",
    "genre_by_rating.head()"
   ]
  },
  {
   "cell_type": "code",
   "execution_count": null,
   "metadata": {},
   "outputs": [],
   "source": []
  },
  {
   "cell_type": "code",
   "execution_count": null,
   "metadata": {},
   "outputs": [],
   "source": []
  },
  {
   "cell_type": "code",
   "execution_count": null,
   "metadata": {},
   "outputs": [],
   "source": []
  },
  {
   "cell_type": "code",
   "execution_count": null,
   "metadata": {},
   "outputs": [],
   "source": []
  },
  {
   "cell_type": "code",
   "execution_count": null,
   "metadata": {},
   "outputs": [],
   "source": []
  },
  {
   "cell_type": "code",
   "execution_count": null,
   "metadata": {},
   "outputs": [],
   "source": []
  },
  {
   "cell_type": "code",
   "execution_count": null,
   "metadata": {},
   "outputs": [],
   "source": []
  },
  {
   "cell_type": "code",
   "execution_count": null,
   "metadata": {},
   "outputs": [],
   "source": []
  },
  {
   "cell_type": "code",
   "execution_count": null,
   "metadata": {},
   "outputs": [],
   "source": []
  },
  {
   "cell_type": "code",
   "execution_count": null,
   "metadata": {},
   "outputs": [],
   "source": []
  },
  {
   "cell_type": "code",
   "execution_count": null,
   "metadata": {},
   "outputs": [],
   "source": []
  },
  {
   "cell_type": "code",
   "execution_count": null,
   "metadata": {},
   "outputs": [],
   "source": []
  },
  {
   "cell_type": "code",
   "execution_count": null,
   "metadata": {},
   "outputs": [],
   "source": []
  }
 ],
 "metadata": {
  "kernelspec": {
   "display_name": "learn-env",
   "language": "python",
   "name": "learn-env"
  },
  "language_info": {
   "codemirror_mode": {
    "name": "ipython",
    "version": 3
   },
   "file_extension": ".py",
   "mimetype": "text/x-python",
   "name": "python",
   "nbconvert_exporter": "python",
   "pygments_lexer": "ipython3",
   "version": "3.8.5"
  }
 },
 "nbformat": 4,
 "nbformat_minor": 4
}
